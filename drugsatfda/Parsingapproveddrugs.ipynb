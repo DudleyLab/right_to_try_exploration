{
 "cells": [
  {
   "cell_type": "code",
   "execution_count": null,
   "metadata": {
    "collapsed": true
   },
   "outputs": [],
   "source": [
    "import pandas as pd\n",
    "import numpy as np"
   ]
  },
  {
   "cell_type": "code",
   "execution_count": null,
   "metadata": {},
   "outputs": [],
   "source": [
    "df = pd.read_csv(\"Products.txt\" , sep=\"\\t\", error_bad_lines=False)\n",
    "\n",
    "#used to verify that lines being skipped isn't affecting having a comphrensive list of all drugs approved\n",
    "#f = open('Products.txt')\n",
    "#lines = f.readlines()\n",
    "#print(lines[34616:34620])\n"
   ]
  },
  {
   "cell_type": "code",
   "execution_count": null,
   "metadata": {},
   "outputs": [],
   "source": [
    "df.head()"
   ]
  },
  {
   "cell_type": "code",
   "execution_count": null,
   "metadata": {
    "collapsed": true
   },
   "outputs": [],
   "source": [
    "drugs = df['DrugName'].unique()"
   ]
  },
  {
   "cell_type": "code",
   "execution_count": null,
   "metadata": {},
   "outputs": [],
   "source": [
    "print(len(drugs))"
   ]
  },
  {
   "cell_type": "code",
   "execution_count": null,
   "metadata": {},
   "outputs": [],
   "source": [
    "print(drugs)\n",
    "with open(\"Approved_drugs_r.txt\", 'w') as file_handler:\n",
    "    for drug in drugs:\n",
    "        \n",
    "        file_handler.write(\"{}\\n\".format(drug))"
   ]
  },
  {
   "cell_type": "code",
   "execution_count": null,
   "metadata": {},
   "outputs": [],
   "source": [
    "drugId = df[['ApplNo','DrugName']]\n",
    "length = len(drugId)\n",
    "step = 0\n",
    "with open(\"Drugs_with_ids_r.txt\", 'w') as file_handler:\n",
    "    for drug in drugs:\n",
    "        lastid = 0\n",
    "        file_handler.write(\"{}\\n\".format(drug))\n",
    "        for row in range(length):\n",
    "            if (drug == drugId.iloc[row][1]):\n",
    "                if(lastid != drugId.iloc[row][0]):\n",
    "                    file_handler.write(\"{}\\t\".format(drugId.iloc[row][0]))\n",
    "                lastid = drugId.iloc[row][0]\n",
    "                drugId.drop(drugId.index[row])\n",
    "        step = step + 1\n",
    "        print(\"finished \")\n",
    "        print(step)\n",
    "        print(\" out of \")\n",
    "        print(len(drugs))\n"
   ]
  },
  {
   "cell_type": "code",
   "execution_count": null,
   "metadata": {},
   "outputs": [],
   "source": [
    "print(len(drugId))"
   ]
  },
  {
   "cell_type": "code",
   "execution_count": null,
   "metadata": {
    "collapsed": true
   },
   "outputs": [],
   "source": []
  }
 ],
 "metadata": {
  "kernelspec": {
   "display_name": "fastAI custom",
   "language": "python",
   "name": "fastai"
  },
  "language_info": {
   "codemirror_mode": {
    "name": "ipython",
    "version": 3
   },
   "file_extension": ".py",
   "mimetype": "text/x-python",
   "name": "python",
   "nbconvert_exporter": "python",
   "pygments_lexer": "ipython3",
   "version": "3.6.5"
  }
 },
 "nbformat": 4,
 "nbformat_minor": 2
}
