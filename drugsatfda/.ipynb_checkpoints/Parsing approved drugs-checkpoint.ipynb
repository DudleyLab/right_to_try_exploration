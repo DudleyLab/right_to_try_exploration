{
 "cells": [
  {
   "cell_type": "code",
   "execution_count": null,
   "metadata": {},
   "outputs": [],
   "source": [
    "import pandas as pd\n",
    "import numpy as np"
   ]
  },
  {
   "cell_type": "code",
   "execution_count": 2,
   "metadata": {},
   "outputs": [
    {
     "name": "stderr",
     "output_type": "stream",
     "text": [
      "b'Skipping line 34617: expected 8 fields, saw 9\\nSkipping line 34618: expected 8 fields, saw 9\\nSkipping line 34619: expected 8 fields, saw 9\\n'\n"
     ]
    }
   ],
   "source": [
    "df = pd.read_csv(\"Products.txt\" , sep=\"\\t\", error_bad_lines=False)\n",
    "\n",
    "#used to verify that lines being skipped isn't affecting having a comphrensive list of all drugs approved\n",
    "#f = open('Products.txt')\n",
    "#lines = f.readlines()\n",
    "#print(lines[34616:34620])\n"
   ]
  },
  {
   "cell_type": "code",
   "execution_count": 3,
   "metadata": {},
   "outputs": [
    {
     "data": {
      "text/html": [
       "<div>\n",
       "<style scoped>\n",
       "    .dataframe tbody tr th:only-of-type {\n",
       "        vertical-align: middle;\n",
       "    }\n",
       "\n",
       "    .dataframe tbody tr th {\n",
       "        vertical-align: top;\n",
       "    }\n",
       "\n",
       "    .dataframe thead th {\n",
       "        text-align: right;\n",
       "    }\n",
       "</style>\n",
       "<table border=\"1\" class=\"dataframe\">\n",
       "  <thead>\n",
       "    <tr style=\"text-align: right;\">\n",
       "      <th></th>\n",
       "      <th>ApplNo</th>\n",
       "      <th>ProductNo</th>\n",
       "      <th>Form</th>\n",
       "      <th>Strength</th>\n",
       "      <th>ReferenceDrug</th>\n",
       "      <th>DrugName</th>\n",
       "      <th>ActiveIngredient</th>\n",
       "      <th>ReferenceStandard</th>\n",
       "    </tr>\n",
       "  </thead>\n",
       "  <tbody>\n",
       "    <tr>\n",
       "      <th>0</th>\n",
       "      <td>4</td>\n",
       "      <td>4</td>\n",
       "      <td>SOLUTION/DROPS;OPHTHALMIC</td>\n",
       "      <td>1%</td>\n",
       "      <td>0</td>\n",
       "      <td>PAREDRINE</td>\n",
       "      <td>HYDROXYAMPHETAMINE HYDROBROMIDE</td>\n",
       "      <td>0.0</td>\n",
       "    </tr>\n",
       "    <tr>\n",
       "      <th>1</th>\n",
       "      <td>159</td>\n",
       "      <td>1</td>\n",
       "      <td>TABLET;ORAL</td>\n",
       "      <td>500MG</td>\n",
       "      <td>0</td>\n",
       "      <td>SULFAPYRIDINE</td>\n",
       "      <td>SULFAPYRIDINE</td>\n",
       "      <td>0.0</td>\n",
       "    </tr>\n",
       "    <tr>\n",
       "      <th>2</th>\n",
       "      <td>552</td>\n",
       "      <td>1</td>\n",
       "      <td>INJECTABLE;INJECTION</td>\n",
       "      <td>20,000 UNITS/ML</td>\n",
       "      <td>0</td>\n",
       "      <td>LIQUAEMIN SODIUM</td>\n",
       "      <td>HEPARIN SODIUM</td>\n",
       "      <td>0.0</td>\n",
       "    </tr>\n",
       "    <tr>\n",
       "      <th>3</th>\n",
       "      <td>552</td>\n",
       "      <td>2</td>\n",
       "      <td>INJECTABLE;INJECTION</td>\n",
       "      <td>40,000 UNITS/ML</td>\n",
       "      <td>0</td>\n",
       "      <td>LIQUAEMIN SODIUM</td>\n",
       "      <td>HEPARIN SODIUM</td>\n",
       "      <td>0.0</td>\n",
       "    </tr>\n",
       "    <tr>\n",
       "      <th>4</th>\n",
       "      <td>552</td>\n",
       "      <td>3</td>\n",
       "      <td>INJECTABLE;INJECTION</td>\n",
       "      <td>5,000 UNITS/ML</td>\n",
       "      <td>0</td>\n",
       "      <td>LIQUAEMIN SODIUM</td>\n",
       "      <td>HEPARIN SODIUM</td>\n",
       "      <td>0.0</td>\n",
       "    </tr>\n",
       "  </tbody>\n",
       "</table>\n",
       "</div>"
      ],
      "text/plain": [
       "   ApplNo  ProductNo                       Form         Strength  \\\n",
       "0       4          4  SOLUTION/DROPS;OPHTHALMIC               1%   \n",
       "1     159          1                TABLET;ORAL            500MG   \n",
       "2     552          1       INJECTABLE;INJECTION  20,000 UNITS/ML   \n",
       "3     552          2       INJECTABLE;INJECTION  40,000 UNITS/ML   \n",
       "4     552          3       INJECTABLE;INJECTION   5,000 UNITS/ML   \n",
       "\n",
       "   ReferenceDrug          DrugName                 ActiveIngredient  \\\n",
       "0              0         PAREDRINE  HYDROXYAMPHETAMINE HYDROBROMIDE   \n",
       "1              0     SULFAPYRIDINE                    SULFAPYRIDINE   \n",
       "2              0  LIQUAEMIN SODIUM                   HEPARIN SODIUM   \n",
       "3              0  LIQUAEMIN SODIUM                   HEPARIN SODIUM   \n",
       "4              0  LIQUAEMIN SODIUM                   HEPARIN SODIUM   \n",
       "\n",
       "   ReferenceStandard  \n",
       "0                0.0  \n",
       "1                0.0  \n",
       "2                0.0  \n",
       "3                0.0  \n",
       "4                0.0  "
      ]
     },
     "execution_count": 3,
     "metadata": {},
     "output_type": "execute_result"
    }
   ],
   "source": [
    "df.head()"
   ]
  },
  {
   "cell_type": "code",
   "execution_count": 4,
   "metadata": {},
   "outputs": [],
   "source": [
    "drugs = df['DrugName'].unique()"
   ]
  },
  {
   "cell_type": "code",
   "execution_count": 5,
   "metadata": {},
   "outputs": [
    {
     "name": "stdout",
     "output_type": "stream",
     "text": [
      "7088\n"
     ]
    }
   ],
   "source": [
    "print(len(drugs))"
   ]
  },
  {
   "cell_type": "code",
   "execution_count": 6,
   "metadata": {},
   "outputs": [
    {
     "name": "stdout",
     "output_type": "stream",
     "text": [
      "['PAREDRINE' 'SULFAPYRIDINE' 'LIQUAEMIN SODIUM' ... 'AIMOVIG' 'PALYNZIQ'\n",
      " 'HEMLIBRA']\n"
     ]
    }
   ],
   "source": [
    "print(drugs)\n",
    "with open(\"Approved_drugs_r.txt\", 'w') as file_handler:\n",
    "    for drug in drugs:\n",
    "        \n",
    "        file_handler.write(\"{}\\n\".format(drug))"
   ]
  },
  {
   "cell_type": "code",
   "execution_count": null,
   "metadata": {},
   "outputs": [],
   "source": [
    "drugId = df[['ApplNo','DrugName']]\n",
    "length = len(drugId)\n",
    "step = 0\n",
    "with open(\"Drugs_with_ids_r.txt\", 'w') as file_handler:\n",
    "    for drug in drugs:\n",
    "        lastid = 0\n",
    "        file_handler.write(\"{}\\n\".format(drug))\n",
    "        for row in range(length):\n",
    "            if (drug == drugId.iloc[row][1]):\n",
    "                if(lastid != drugId.iloc[row][0]):\n",
    "                    file_handler.write(\"{}\\t\".format(drugId.iloc[row][0]))\n",
    "                    drugId.drop(drugId.index[row])\n",
    "                lastid = drugId.iloc[row][0]\n",
    "        step = step + 1\n",
    "        print(\"finished \")\n",
    "        print(step)\n",
    "        print(\" out of \")\n",
    "        print(len(drugs))\n"
   ]
  },
  {
   "cell_type": "code",
   "execution_count": 59,
   "metadata": {},
   "outputs": [
    {
     "name": "stdout",
     "output_type": "stream",
     "text": [
      "21938\n"
     ]
    }
   ],
   "source": [
    "print(len(drugId))"
   ]
  },
  {
   "cell_type": "code",
   "execution_count": null,
   "metadata": {},
   "outputs": [],
   "source": []
  }
 ],
 "metadata": {
  "kernelspec": {
   "display_name": "fastAI custom",
   "language": "python",
   "name": "fastai"
  },
  "language_info": {
   "codemirror_mode": {
    "name": "ipython",
    "version": 3
   },
   "file_extension": ".py",
   "mimetype": "text/x-python",
   "name": "python",
   "nbconvert_exporter": "python",
   "pygments_lexer": "ipython3",
   "version": "3.6.5"
  }
 },
 "nbformat": 4,
 "nbformat_minor": 2
}
